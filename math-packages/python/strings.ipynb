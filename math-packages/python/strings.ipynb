{
 "cells": [
  {
   "cell_type": "code",
   "execution_count": 1,
   "metadata": {
    "datalore": {
     "hide_input_from_viewers": false,
     "hide_output_from_viewers": false,
     "node_id": "YxWH8dueoCKnBeop7pti8t",
     "type": "CODE"
    }
   },
   "outputs": [
    {
     "name": "stdout",
     "output_type": "stream",
     "text": [
      "Задание из файла \"Задания_графики\":\n"
     ]
    },
    {
     "data": {
      "image/png": "[encoded data removed]",
      "text/plain": [
       "<Figure size 432x288 with 1 Axes>"
      ]
     },
     "metadata": {
      "needs_background": "light"
     },
     "output_type": "display_data"
    }
   ],
   "source": [
    "print('Задание из файла \"Задания_графики\":')\n",
    "from matplotlib import pyplot as plt\n",
    "import numpy as np\n",
    "\n",
    "t = np.linspace(-100, 100, 10000)\n",
    "y = np.arctan(-0.0012 * t ** 3 + 0.4 * t ** 2 + 0.616 * t + 6120) + 0.65 * np.sin(0.24 * t + 1.23)\n",
    "- 0.27 * np.cos(0.21 * t - 0.17)\n",
    "- np.sin(0.34 * t + 0.16) / (1 + 0.03 * (t - 370.5) ** 2)\n",
    "\n",
    "plt.plot(t, y, 'r')\n",
    "plt.xlabel('Time')\n",
    "plt.ylabel('Temperature')\n",
    "plt.grid(True)\n",
    "plt.show()"
   ]
  },
  {
   "cell_type": "code",
   "execution_count": 2,
   "metadata": {
    "datalore": {
     "hide_input_from_viewers": false,
     "hide_output_from_viewers": false,
     "node_id": "tjsGfQUB4TO36I1T3ZUd72",
     "type": "CODE"
    }
   },
   "outputs": [
    {
     "name": "stdout",
     "output_type": "stream",
     "text": [
      "Строки. Задание №1:\n",
      "Today's the perfect day for learning Python, don't you think so?\n",
      "?os kniht uoy t'nod ,nohtyP gninrael rof yad tcefrep eht s'yadoT\n"
     ]
    }
   ],
   "source": [
    "print('Строки. Задание №1:')\n",
    "ss = \"Today's the perfect day for learning Python, don't you think so?\"\n",
    "print(ss)\n",
    "#1. Измените порядок символов в строке ss на обратный\n",
    "ss_reversed = \"\"\n",
    "for i in reversed(ss):\n",
    "    ss_reversed += i\n",
    "print(ss_reversed)"
   ]
  },
  {
   "cell_type": "code",
   "execution_count": 3,
   "metadata": {
    "datalore": {
     "hide_input_from_viewers": false,
     "hide_output_from_viewers": false,
     "node_id": "n6TzNuWAzwD7NRybfgsDbq",
     "type": "CODE"
    }
   },
   "outputs": [
    {
     "name": "stdout",
     "output_type": "stream",
     "text": [
      "Строки. Задание №2:\n",
      "s the perfect day for learning Python, don\n"
     ]
    }
   ],
   "source": [
    "#2. Найдите подстроку заключенную между апострофами\n",
    "print('Строки. Задание №2:')\n",
    "substr = \"\"\n",
    "is_substr = False\n",
    "for i in ss:\n",
    "    if i == \"'\":\n",
    "        is_substr = not is_substr\n",
    "        if is_substr:\n",
    "            continue\n",
    "    \n",
    "    if is_substr:\n",
    "        substr += i\n",
    "\n",
    "print(substr)"
   ]
  },
  {
   "cell_type": "code",
   "execution_count": 4,
   "metadata": {
    "datalore": {
     "hide_input_from_viewers": false,
     "hide_output_from_viewers": false,
     "node_id": "0TpcViss3Ox5wM2GTf49L8",
     "type": "CODE"
    }
   },
   "outputs": [
    {
     "name": "stdout",
     "output_type": "stream",
     "text": [
      "Строки. Задание №3:\n",
      "72 -> 144\n"
     ]
    }
   ],
   "source": [
    "#3. На вход подаётся строка-число. Удвойте его\n",
    "print('Строки. Задание №3:')\n",
    "number = \"72\"\n",
    "doubled_number = int(number) * 2\n",
    "print(number, '->', doubled_number)"
   ]
  },
  {
   "cell_type": "code",
   "execution_count": 5,
   "metadata": {
    "datalore": {
     "hide_input_from_viewers": false,
     "hide_output_from_viewers": false,
     "node_id": "6zKcfvqOUDE9tTC0163r5X",
     "type": "CODE"
    }
   },
   "outputs": [
    {
     "name": "stdout",
     "output_type": "stream",
     "text": [
      "Строки. Задание №4:\n",
      "3254543 793423410 -> 793423410 3254543\n"
     ]
    }
   ],
   "source": [
    "#4. В строке записано два числа. Поменяйте их местами\n",
    "print('Строки. Задание №4:')\n",
    "two_numbers = \"3254543 793423410\"\n",
    "first_num = ''\n",
    "second_num = ''\n",
    "space = None\n",
    "for i in range(0, len(two_numbers)):\n",
    "    if two_numbers[i] == ' ':\n",
    "        space = i\n",
    "\n",
    "for i in range(0, space):\n",
    "    first_num += two_numbers[i]\n",
    "\n",
    "for i in range(space + 1, len(two_numbers)):\n",
    "    second_num += two_numbers[i]\n",
    "\n",
    "print(two_numbers, '->', second_num, first_num)"
   ]
  },
  {
   "cell_type": "code",
   "execution_count": 6,
   "metadata": {
    "datalore": {
     "hide_input_from_viewers": false,
     "hide_output_from_viewers": false,
     "node_id": "o6XULxgzUPL1P0AOzMbLqe",
     "type": "CODE"
    }
   },
   "outputs": [
    {
     "name": "stdout",
     "output_type": "stream",
     "text": [
      "Строки. Задание №5:\n",
      "sasha.menkeev@mail.ru -> sasha.menkeev\n"
     ]
    }
   ],
   "source": [
    "#5. Из почтового адреса нужно выделить логин\n",
    "print('Строки. Задание №5:')\n",
    "mail = \"sasha.menkeev@mail.ru\"\n",
    "login = \"\"\n",
    "bool_variable = True\n",
    "for i in mail:\n",
    "    if i == \"@\":\n",
    "        bool_variable = False\n",
    "    if bool_variable:\n",
    "        login += i\n",
    "\n",
    "print(mail, \"->\", login)"
   ]
  },
  {
   "cell_type": "code",
   "execution_count": 7,
   "metadata": {
    "datalore": {
     "hide_input_from_viewers": false,
     "hide_output_from_viewers": false,
     "node_id": "xjv3NhbjlsHSB2UZ4l7Wg8",
     "type": "CODE"
    }
   },
   "outputs": [
    {
     "name": "stdout",
     "output_type": "stream",
     "text": [
      "Строки. Задание №6:\n",
      "+7 (812) 134-12-324 -> +781213412324\n"
     ]
    }
   ],
   "source": [
    "#6. Отформатировать запись номера телефона\n",
    "print('Строки. Задание №6:')\n",
    "phone_number = \"+7 (812) 134-12-324\"\n",
    "correct_format = \"\"\n",
    "for i in phone_number:\n",
    "    if i != '-' and i != ' ' and i != '(' and i != ')':\n",
    "        correct_format += i\n",
    "\n",
    "print(phone_number, '->', correct_format)"
   ]
  },
  {
   "cell_type": "code",
   "execution_count": 8,
   "metadata": {
    "datalore": {
     "hide_input_from_viewers": false,
     "hide_output_from_viewers": false,
     "node_id": "DogdzdOibgyTgX37Wiygfe",
     "type": "CODE"
    }
   },
   "outputs": [
    {
     "name": "stdout",
     "output_type": "stream",
     "text": [
      "Строки. Задание №7:\n",
      "Saippuakivikauppias is a palindrome.\n",
      "А роза упала на лапу Азора is a palindrome.\n",
      "Топот is a palindrome.\n",
      "404 is a palindrome.\n",
      "Котёнок is not a palindrome.\n"
     ]
    }
   ],
   "source": [
    "#7. Определить является ли палиндромом слово или предложение\n",
    "print('Строки. Задание №7:')\n",
    "strings = [\"Saippuakivikauppias\", \"А роза упала на лапу Азора\", \"Топот\", \"404\", \"Котёнок\"]\n",
    "\n",
    "def is_palindrome(s):\n",
    "    s_without_spaces = \"\"\n",
    "    for character in s:\n",
    "        if character != ' ':\n",
    "            s_without_spaces += character\n",
    "\n",
    "    if len(s_without_spaces) % 2 == 0:\n",
    "        return False\n",
    "    \n",
    "    s_without_spaces_reversed = \"\"\n",
    "    for character in reversed(s_without_spaces):\n",
    "        s_without_spaces_reversed += character\n",
    "\n",
    "    if s_without_spaces.casefold() == s_without_spaces_reversed.casefold():\n",
    "        return True\n",
    "    else:\n",
    "        return False\n",
    "\n",
    "\n",
    "for string in strings:\n",
    "    bool_variable = is_palindrome(string)\n",
    "    if bool_variable:\n",
    "        print(string, 'is a palindrome.')\n",
    "    else:\n",
    "        print(string, 'is not a palindrome.')"
   ]
  },
  {
   "cell_type": "code",
   "execution_count": 9,
   "metadata": {
    "datalore": {
     "hide_input_from_viewers": false,
     "hide_output_from_viewers": false,
     "node_id": "pErBy86QdVXBwBCjv7HRY6",
     "type": "CODE"
    }
   },
   "outputs": [
    {
     "name": "stdout",
     "output_type": "stream",
     "text": [
      "Строки. Задание №8:\n",
      "12345678101112131415161718120212223242526272823031323334353637383404142434445464748450515253545556575856061626364656667686707172737475767778780818283848586878880123456781001011021031041051061071081011011111211311411511611711811120121122123\n"
     ]
    }
   ],
   "source": [
    "#8. Записали все числа от 1 до 123. \n",
    "#А потом зачеркнули все девятки. Какая строка получилась?\n",
    "print('Строки. Задание №8:')\n",
    "string = \"\"\n",
    "string_without_9 = \"\"\n",
    "for i in range(1, 124):\n",
    "    string += str(i)\n",
    "for character in string:\n",
    "    if character != '9':\n",
    "        string_without_9 += character\n",
    "\n",
    "print(string_without_9)"
   ]
  },
  {
   "cell_type": "code",
   "execution_count": 10,
   "metadata": {
    "datalore": {
     "hide_input_from_viewers": false,
     "hide_output_from_viewers": false,
     "node_id": "O3f6A588yKzmeYrHpsV0VI",
     "type": "CODE"
    }
   },
   "outputs": [
    {
     "name": "stdout",
     "output_type": "stream",
     "text": [
      "Строки. Задание №9:\n",
      "Все трехзначные числа Армстронга: 153 370 371 407\n"
     ]
    }
   ],
   "source": [
    "#9. Найдите все трехзначные числа Армстронга\n",
    "print('Строки. Задание №9:')\n",
    "Armstrongs_numbers = []\n",
    "for i in range(100, 1000):\n",
    "    str_i = str(i)\n",
    "    if int(str_i[0])**3 + int(str_i[1])**3 + int(str_i[2])**3 == i:\n",
    "        Armstrongs_numbers.append(i)\n",
    "        \n",
    "print(\"Все трехзначные числа Армстронга:\", *Armstrongs_numbers)"
   ]
  },
  {
   "cell_type": "code",
   "execution_count": 11,
   "metadata": {
    "datalore": {
     "hide_input_from_viewers": false,
     "hide_output_from_viewers": false,
     "node_id": "z7UCPRtHiRlV2U8FfMPQwf",
     "type": "CODE"
    }
   },
   "outputs": [
    {
     "name": "stdout",
     "output_type": "stream",
     "text": [
      "Строки. Задание №10:\n",
      "1 5 6 25 76 376 625 9376\n"
     ]
    }
   ],
   "source": [
    "#10. Найдите все автоморфные числа, не превосходящие N\n",
    "print('Строки. Задание №10:')\n",
    "automorphic_numbers = []\n",
    "N = int(input(\"Введите N:\"))\n",
    "for i in range(1, N + 1):\n",
    "    str_i = str(i)\n",
    "    str_ii = str(i**2)\n",
    "    len_i = len(str_i)\n",
    "    len_ii = len(str_ii)\n",
    "    k = len_ii - len_i\n",
    "    for j in range(0, len_i):\n",
    "        if str_i[j] == str_ii[k]:\n",
    "            k += 1\n",
    "    if k == len_ii:\n",
    "        automorphic_numbers.append(i)\n",
    "        \n",
    "print(*automorphic_numbers)"
   ]
  },
  {
   "cell_type": "code",
   "execution_count": 12,
   "metadata": {
    "datalore": {
     "hide_input_from_viewers": false,
     "hide_output_from_viewers": false,
     "node_id": "naaz1IYrqH3xtZ8sSj4JsI",
     "type": "CODE"
    }
   },
   "outputs": [
    {
     "name": "stdout",
     "output_type": "stream",
     "text": [
      "Строки. Задание №11:\n",
      "3*15 + 7*17 + 1*21\n",
      "5*15 + 4*17 + 2*21\n",
      "7*15 + 1*17 + 3*21\n",
      "3 способа\n"
     ]
    }
   ],
   "source": [
    "#11. Сколькими способами можно купить 185 кг штукартурки,\n",
    "# если есть упаковки только по 15, 17, 21 кг?\n",
    "print('Строки. Задание №11:')\n",
    "count = 0\n",
    "for i in range(0, int(185/15)):\n",
    "    for j in range(0, int(185/17)):\n",
    "        for k in range(0, int(185/21)):\n",
    "            m = i*15 + j*17 + k*21\n",
    "            if m > 185:\n",
    "                break\n",
    "            if m == 185:\n",
    "                count += 1\n",
    "                print(i,'*15 + ', j, '*17 + ', k, '*21', sep='')\n",
    "print(count, 'способа')"
   ]
  }
 ],
 "metadata": {
  "datalore": {
   "base_environment": "default",
   "computation_mode": "JUPYTER",
   "package_manager": "pip",
   "packages": [],
   "version": 1
  },
  "kernelspec": {
   "display_name": "Python 3.10.4 64-bit",
   "language": "python",
   "name": "python3"
  },
  "language_info": {
   "codemirror_mode": {
    "name": "ipython",
    "version": 3
   },
   "file_extension": ".py",
   "mimetype": "text/x-python",
   "name": "python",
   "nbconvert_exporter": "python",
   "pygments_lexer": "ipython3",
   "version": "3.10.4"
  },
  "vscode": {
   "interpreter": {
    "hash": "f6a3a25c74cd0da2192a41ef485804de5be3e8bfabdab7b7d3444c62efa2594c"
   }
  }
 },
 "nbformat": 4,
 "nbformat_minor": 4
}
